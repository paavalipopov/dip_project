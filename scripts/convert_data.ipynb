{
 "cells": [
  {
   "cell_type": "markdown",
   "metadata": {},
   "source": [
    "# Requirements"
   ]
  },
  {
   "cell_type": "code",
   "execution_count": 1,
   "metadata": {},
   "outputs": [
    {
     "data": {
      "text/plain": [
       "'/Users/pavelpopov/courses/digital image processing/project'"
      ]
     },
     "execution_count": 1,
     "metadata": {},
     "output_type": "execute_result"
    }
   ],
   "source": [
    "import os\n",
    "os.chdir('..')\n",
    "os.getcwd()"
   ]
  },
  {
   "cell_type": "code",
   "execution_count": 2,
   "metadata": {},
   "outputs": [
    {
     "name": "stderr",
     "output_type": "stream",
     "text": [
      "2023-11-20 21:24:43.738844: I tensorflow/core/platform/cpu_feature_guard.cc:182] This TensorFlow binary is optimized to use available CPU instructions in performance-critical operations.\n",
      "To enable the following instructions: AVX2 FMA, in other operations, rebuild TensorFlow with the appropriate compiler flags.\n"
     ]
    }
   ],
   "source": [
    "import math, re\n",
    "import tensorflow as tf\n",
    "import numpy as np\n",
    "import glob"
   ]
  },
  {
   "cell_type": "markdown",
   "metadata": {},
   "source": [
    "# Read tfrec"
   ]
  },
  {
   "cell_type": "code",
   "execution_count": 9,
   "metadata": {},
   "outputs": [],
   "source": [
    "def decode_image(image_data):\n",
    "    image = tf.image.decode_jpeg(image_data, channels=3)\n",
    "    image = tf.cast(image, tf.float32) / 255.0  # convert image to floats in [0, 1] range\n",
    "    image = tf.reshape(image, [512, 512, 3]) # explicit size needed for TPU\n",
    "    return image\n",
    "\n",
    "def read_labeled_tfrecord(example):\n",
    "    LABELED_TFREC_FORMAT = {\n",
    "        \"image\": tf.io.FixedLenFeature([], tf.string), # tf.string means bytestring\n",
    "        \"class\": tf.io.FixedLenFeature([], tf.int64),  # shape [] means single element\n",
    "    }\n",
    "    example = tf.io.parse_single_example(example, LABELED_TFREC_FORMAT)\n",
    "    image = decode_image(example['image'])\n",
    "    label = tf.cast(example['class'], tf.int32)\n",
    "    return image, label # returns a dataset of (image, label) pairs\n",
    "\n",
    "def read_unlabeled_tfrecord(example):\n",
    "    UNLABELED_TFREC_FORMAT = {\n",
    "        \"image\": tf.io.FixedLenFeature([], tf.string), # tf.string means bytestring\n",
    "        \"id\": tf.io.FixedLenFeature([], tf.string),  # shape [] means single element\n",
    "        # class is missing, this competitions's challenge is to predict flower classes for the test dataset\n",
    "    }\n",
    "    example = tf.io.parse_single_example(example, UNLABELED_TFREC_FORMAT)\n",
    "    image = decode_image(example['image'])\n",
    "    idnum = example['id']\n",
    "    return image, idnum # returns a dataset of image(s)"
   ]
  },
  {
   "cell_type": "code",
   "execution_count": 10,
   "metadata": {},
   "outputs": [],
   "source": [
    "train_paths = glob.glob(\"/Users/pavelpopov/courses/digital image processing/project/assets/data/original_data/train/*\")\n",
    "val_paths = glob.glob(\"/Users/pavelpopov/courses/digital image processing/project/assets/data/original_data/train/*\")\n",
    "test_paths = glob.glob(\"/Users/pavelpopov/courses/digital image processing/project/assets/data/original_data/train/*\")"
   ]
  },
  {
   "cell_type": "code",
   "execution_count": 13,
   "metadata": {},
   "outputs": [],
   "source": [
    "train_dataset = tf.data.TFRecordDataset(train_paths).map(read_labeled_tfrecord)"
   ]
  },
  {
   "cell_type": "code",
   "execution_count": 33,
   "metadata": {},
   "outputs": [
    {
     "name": "stdout",
     "output_type": "stream",
     "text": [
      "(1000, 512, 512, 3)\n",
      "(1000, 512, 512, 3)\n",
      "(1000, 512, 512, 3)\n",
      "(1000, 512, 512, 3)\n",
      "(1000, 512, 512, 3)\n",
      "(1000, 512, 512, 3)\n",
      "(1000, 512, 512, 3)\n",
      "(1000, 512, 512, 3)\n",
      "(1000, 512, 512, 3)\n",
      "(1000, 512, 512, 3)\n",
      "(1000, 512, 512, 3)\n",
      "(1000, 512, 512, 3)\n",
      "(753, 512, 512, 3)\n"
     ]
    }
   ],
   "source": [
    "save_path = \"/Users/pavelpopov/courses/digital image processing/project/assets/data/np_data\"\n",
    "data = []\n",
    "labels = []\n",
    "i = 0\n",
    "j = 0\n",
    "for example in train_dataset:\n",
    "    data.append(example[0].numpy())\n",
    "    labels.append(example[1].numpy())\n",
    "    i += 1\n",
    "    if i >= 1000:\n",
    "        data = np.stack(data)\n",
    "        labels = np.stack(labels)\n",
    "        print(data.shape)\n",
    "        np.savez(f\"{save_path}/train_data_{j}.npz\", data=data, labels=labels)\n",
    "\n",
    "        data = []\n",
    "        labels = []\n",
    "        j += 1\n",
    "        i = 0\n",
    "\n",
    "data = np.stack(data)\n",
    "labels = np.stack(labels)\n",
    "print(data.shape)\n",
    "# np.savez(f\"{save_path}/train_data.npz\", data=data, labels=labels)\n",
    "np.savez(f\"{save_path}/train_data_{j}.npz\", data=data, labels=labels)"
   ]
  },
  {
   "cell_type": "code",
   "execution_count": null,
   "metadata": {},
   "outputs": [],
   "source": [
    "save_path = \"/Users/pavelpopov/courses/digital image processing/project/assets/data/np_data\"\n",
    "data = []\n",
    "labels = []\n",
    "i = 0\n",
    "j = 0\n",
    "for example in train_dataset:\n",
    "    data.append(example[0].numpy())\n",
    "    labels.append(example[1].numpy())\n",
    "    i += 1\n",
    "    if i >= 1000:\n",
    "        data = np.stack(data)\n",
    "        labels = np.stack(labels)\n",
    "        print(data.shape)\n",
    "        np.savez(f\"{save_path}/train_data_{j}.npz\", data=data, labels=labels)\n",
    "\n",
    "        data = []\n",
    "        labels = []\n",
    "        j += 1\n",
    "        i = 0\n",
    "\n",
    "data = np.stack(data)\n",
    "labels = np.stack(labels)\n",
    "print(data.shape)\n",
    "# np.savez(f\"{save_path}/train_data.npz\", data=data, labels=labels)\n",
    "np.savez(f\"{save_path}/train_data_{j}.npz\", data=data, labels=labels)"
   ]
  },
  {
   "cell_type": "code",
   "execution_count": 40,
   "metadata": {},
   "outputs": [],
   "source": [
    "save_path = \"/Users/pavelpopov/courses/digital image processing/project/assets/data/np_data\"\n",
    "data = []\n",
    "labels = []\n",
    "i = 0\n",
    "j = 0\n",
    "for example in train_dataset:\n",
    "    # data.append(example[0].numpy())\n",
    "    labels.append(example[1].numpy())\n",
    "    # i += 1\n",
    "    # if i >= 1000:\n",
    "    #     data = np.stack(data)\n",
    "    #     labels = np.stack(labels)\n",
    "    #     print(data.shape)\n",
    "    #     np.savez(f\"{save_path}/train_data_{j}.npz\", data=data, labels=labels)\n",
    "\n",
    "    #     data = []\n",
    "    #     labels = []\n",
    "    #     j += 1\n",
    "    #     i = 0\n",
    "\n",
    "# data = np.stack(data)\n",
    "# labels = np.stack(labels)\n",
    "# print(data.shape)\n",
    "# # np.savez(f\"{save_path}/train_data.npz\", data=data, labels=labels)\n",
    "# np.savez(f\"{save_path}/train_data_{j}.npz\", data=data, labels=labels)"
   ]
  },
  {
   "cell_type": "code",
   "execution_count": 55,
   "metadata": {},
   "outputs": [],
   "source": [
    "labels_np = np.stack(labels)\n",
    "labels_per_class = {class_idx: np.where(labels_np == class_idx)[0] for class_idx in np.unique(labels_np)}"
   ]
  },
  {
   "cell_type": "code",
   "execution_count": null,
   "metadata": {},
   "outputs": [],
   "source": [
    "save_path = \"/Users/pavelpopov/courses/digital image processing/project/assets/data/np_data/data_per_class\"\n",
    "for class_idx, positions in labels_per_class:\n",
    "    data = np.load(f\"/Users/pavelpopov/courses/digital image processing/project/assets/data/np_data/train_data_{class_idx}.npz\")"
   ]
  }
 ],
 "metadata": {
  "kernelspec": {
   "display_name": "dip",
   "language": "python",
   "name": "python3"
  },
  "language_info": {
   "codemirror_mode": {
    "name": "ipython",
    "version": 3
   },
   "file_extension": ".py",
   "mimetype": "text/x-python",
   "name": "python",
   "nbconvert_exporter": "python",
   "pygments_lexer": "ipython3",
   "version": "3.9.17"
  }
 },
 "nbformat": 4,
 "nbformat_minor": 2
}
